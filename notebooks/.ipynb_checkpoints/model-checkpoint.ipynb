{
 "cells": [
  {
   "cell_type": "code",
   "execution_count": 124,
   "metadata": {},
   "outputs": [],
   "source": [
    "import pandas as pd\n",
    "import numpy as np\n",
    "import os\n",
    "from sklearn.feature_extraction.text import TfidfVectorizer\n",
    "from sklearn.decomposition import TruncatedSVD\n",
    "from sklearn.neighbors import BallTree\n",
    "from sklearn.base import BaseEstimator\n",
    "from sklearn.pipeline import make_pipeline"
   ]
  },
  {
   "cell_type": "code",
   "execution_count": 135,
   "metadata": {},
   "outputs": [
    {
     "name": "stdout",
     "output_type": "stream",
     "text": [
      "(5087, 4)\n",
      "(5087, 4)\n",
      "(5087, 4)\n",
      "(5087, 4)\n",
      "(5087, 4)\n",
      "(5087, 4)\n",
      "(5087, 4)\n",
      "(5087, 4)\n"
     ]
    }
   ],
   "source": [
    "lines = pd.DataFrame()\n",
    "for data in os.listdir(\"../data\"):\n",
    "    if data !='links.csv':\n",
    "        temp = pd.read_csv(\"../data/season1_script.csv\")\n",
    "        temp.drop(\"Unnamed: 0\", axis=1, inplace=True)\n",
    "        lines = lines.append(temp)\n",
    "        print(temp.shape)\n",
    "    else:\n",
    "        pass\n",
    "        "
   ]
  },
  {
   "cell_type": "code",
   "execution_count": 136,
   "metadata": {},
   "outputs": [],
   "source": [
    "# lines = pd.read_csv(\"../data/season1_script.csv\")\n",
    "# lines.drop(\"Unnamed: 0\", axis=1, inplace=True)"
   ]
  },
  {
   "cell_type": "code",
   "execution_count": 137,
   "metadata": {},
   "outputs": [],
   "source": [
    "lines['context'] = lines['script'].shift(1)\n"
   ]
  },
  {
   "cell_type": "code",
   "execution_count": 138,
   "metadata": {},
   "outputs": [
    {
     "data": {
      "text/html": [
       "<div>\n",
       "<style scoped>\n",
       "    .dataframe tbody tr th:only-of-type {\n",
       "        vertical-align: middle;\n",
       "    }\n",
       "\n",
       "    .dataframe tbody tr th {\n",
       "        vertical-align: top;\n",
       "    }\n",
       "\n",
       "    .dataframe thead th {\n",
       "        text-align: right;\n",
       "    }\n",
       "</style>\n",
       "<table border=\"1\" class=\"dataframe\">\n",
       "  <thead>\n",
       "    <tr style=\"text-align: right;\">\n",
       "      <th></th>\n",
       "      <th>season</th>\n",
       "      <th>episode</th>\n",
       "      <th>friend</th>\n",
       "      <th>script</th>\n",
       "      <th>context</th>\n",
       "    </tr>\n",
       "  </thead>\n",
       "  <tbody>\n",
       "    <tr>\n",
       "      <th>0</th>\n",
       "      <td>season1</td>\n",
       "      <td>101pilot</td>\n",
       "      <td>Frannie</td>\n",
       "      <td>Hey, Monica!</td>\n",
       "      <td>NaN</td>\n",
       "    </tr>\n",
       "    <tr>\n",
       "      <th>1</th>\n",
       "      <td>season1</td>\n",
       "      <td>101pilot</td>\n",
       "      <td>Monica</td>\n",
       "      <td>Hey Frannie, welcome back! How was Florida?</td>\n",
       "      <td>Hey, Monica!</td>\n",
       "    </tr>\n",
       "    <tr>\n",
       "      <th>2</th>\n",
       "      <td>season1</td>\n",
       "      <td>101pilot</td>\n",
       "      <td>Frannie</td>\n",
       "      <td>You had sex, didn't you?</td>\n",
       "      <td>Hey Frannie, welcome back! How was Florida?</td>\n",
       "    </tr>\n",
       "    <tr>\n",
       "      <th>3</th>\n",
       "      <td>season1</td>\n",
       "      <td>101pilot</td>\n",
       "      <td>Monica</td>\n",
       "      <td>How do you do that?</td>\n",
       "      <td>You had sex, didn't you?</td>\n",
       "    </tr>\n",
       "    <tr>\n",
       "      <th>4</th>\n",
       "      <td>season1</td>\n",
       "      <td>101pilot</td>\n",
       "      <td>Monica</td>\n",
       "      <td>You know Paul?</td>\n",
       "      <td>How do you do that?</td>\n",
       "    </tr>\n",
       "  </tbody>\n",
       "</table>\n",
       "</div>"
      ],
      "text/plain": [
       "    season   episode   friend                                         script  \\\n",
       "0  season1  101pilot  Frannie                                  Hey, Monica!    \n",
       "1  season1  101pilot   Monica   Hey Frannie, welcome back! How was Florida?    \n",
       "2  season1  101pilot  Frannie                      You had sex, didn't you?    \n",
       "3  season1  101pilot   Monica                            How do you do that?   \n",
       "4  season1  101pilot   Monica                                You know Paul?    \n",
       "\n",
       "                                         context  \n",
       "0                                            NaN  \n",
       "1                                  Hey, Monica!   \n",
       "2   Hey Frannie, welcome back! How was Florida?   \n",
       "3                      You had sex, didn't you?   \n",
       "4                            How do you do that?  "
      ]
     },
     "execution_count": 138,
     "metadata": {},
     "output_type": "execute_result"
    }
   ],
   "source": [
    "lines.head()"
   ]
  },
  {
   "cell_type": "code",
   "execution_count": 139,
   "metadata": {},
   "outputs": [
    {
     "data": {
      "text/html": [
       "<div>\n",
       "<style scoped>\n",
       "    .dataframe tbody tr th:only-of-type {\n",
       "        vertical-align: middle;\n",
       "    }\n",
       "\n",
       "    .dataframe tbody tr th {\n",
       "        vertical-align: top;\n",
       "    }\n",
       "\n",
       "    .dataframe thead th {\n",
       "        text-align: right;\n",
       "    }\n",
       "</style>\n",
       "<table border=\"1\" class=\"dataframe\">\n",
       "  <thead>\n",
       "    <tr style=\"text-align: right;\">\n",
       "      <th></th>\n",
       "      <th>season</th>\n",
       "      <th>episode</th>\n",
       "      <th>friend</th>\n",
       "      <th>script</th>\n",
       "      <th>context</th>\n",
       "    </tr>\n",
       "  </thead>\n",
       "  <tbody>\n",
       "    <tr>\n",
       "      <th>17</th>\n",
       "      <td>season1</td>\n",
       "      <td>101pilot</td>\n",
       "      <td>Chandler</td>\n",
       "      <td>And yet you're surprisingly upbeat.</td>\n",
       "      <td>Are you kidding? I'm trained for nothing! I w...</td>\n",
       "    </tr>\n",
       "    <tr>\n",
       "      <th>19</th>\n",
       "      <td>season1</td>\n",
       "      <td>101pilot</td>\n",
       "      <td>Chandler</td>\n",
       "      <td>Oh, how well you know me...</td>\n",
       "      <td>You would be too if you found John and David ...</td>\n",
       "    </tr>\n",
       "    <tr>\n",
       "      <th>66</th>\n",
       "      <td>season1</td>\n",
       "      <td>101pilot</td>\n",
       "      <td>Chandler</td>\n",
       "      <td>Did you make it, or are you just serving it?</td>\n",
       "      <td>(walks up with a pot of coffee) Would anybody...</td>\n",
       "    </tr>\n",
       "    <tr>\n",
       "      <th>69</th>\n",
       "      <td>season1</td>\n",
       "      <td>101pilot</td>\n",
       "      <td>Chandler</td>\n",
       "      <td>Kids, new dream... I'm in Las Vegas. &lt;font co...</td>\n",
       "      <td>Yeah. Yeah, I'll have a cup of coffee.</td>\n",
       "    </tr>\n",
       "  </tbody>\n",
       "</table>\n",
       "</div>"
      ],
      "text/plain": [
       "     season   episode    friend  \\\n",
       "17  season1  101pilot  Chandler   \n",
       "19  season1  101pilot  Chandler   \n",
       "66  season1  101pilot  Chandler   \n",
       "69  season1  101pilot  Chandler   \n",
       "\n",
       "                                               script  \\\n",
       "17               And yet you're surprisingly upbeat.    \n",
       "19                       Oh, how well you know me...    \n",
       "66      Did you make it, or are you just serving it?    \n",
       "69   Kids, new dream... I'm in Las Vegas. <font co...   \n",
       "\n",
       "                                              context  \n",
       "17   Are you kidding? I'm trained for nothing! I w...  \n",
       "19   You would be too if you found John and David ...  \n",
       "66   (walks up with a pot of coffee) Would anybody...  \n",
       "69            Yeah. Yeah, I'll have a cup of coffee.   "
      ]
     },
     "execution_count": 139,
     "metadata": {},
     "output_type": "execute_result"
    }
   ],
   "source": [
    "chandler = lines[lines['friend']=='Chandler']\n",
    "chandler.head(4)"
   ]
  },
  {
   "cell_type": "code",
   "execution_count": 140,
   "metadata": {},
   "outputs": [
    {
     "name": "stdout",
     "output_type": "stream",
     "text": [
      "(5544, 1481)\n"
     ]
    }
   ],
   "source": [
    "vector = TfidfVectorizer()\n",
    "matrix = vector.fit_transform(chandler.context)\n",
    "print(matrix.shape)"
   ]
  },
  {
   "cell_type": "code",
   "execution_count": 142,
   "metadata": {},
   "outputs": [
    {
     "name": "stdout",
     "output_type": "stream",
     "text": [
      "(5544, 900)\n",
      "1.0000000000000007\n"
     ]
    }
   ],
   "source": [
    "svd = TruncatedSVD(n_components=900)\n",
    "smal_matr = svd.fit_transform(matrix)\n",
    "print(smal_matr.shape)\n",
    "print(svd.explained_variance_ratio_.sum())"
   ]
  },
  {
   "cell_type": "code",
   "execution_count": 143,
   "metadata": {},
   "outputs": [],
   "source": [
    "def softmax(x):\n",
    "    proba = np.exp(-x)\n",
    "    return proba/sum(proba)\n",
    "\n",
    "\n",
    "class NeighbourCample(BaseEstimator):\n",
    "    \n",
    "    def __init__(self, k=5, temperature=1.0):\n",
    "        self.k = k\n",
    "        self.temperature = temperature\n",
    "        \n",
    "    def fit(self, X, y):\n",
    "        self.tree_ = BallTree(X)\n",
    "        self.y_ = np.array(y)\n",
    "        \n",
    "    def predict(self, X, random_state=None):\n",
    "        distances, indices = self.tree_.query(X, return_distance=True, k=self.k)\n",
    "        result = []\n",
    "        for distance, index in zip(distances, indices):\n",
    "            result.append(np.random.choice(index, p = softmax(distance * self.temperature)))\n",
    "        return self.y_[result]        "
   ]
  },
  {
   "cell_type": "code",
   "execution_count": 144,
   "metadata": {},
   "outputs": [],
   "source": [
    "ns = NeighbourCample()\n",
    "ns.fit(smal_matr, chandler.script)\n",
    "pipe = make_pipeline(vector, svd, ns)"
   ]
  },
  {
   "cell_type": "code",
   "execution_count": 212,
   "metadata": {},
   "outputs": [
    {
     "name": "stdout",
     "output_type": "stream",
     "text": [
      "[' Did you make it, or are you just serving it? ']\n"
     ]
    }
   ],
   "source": [
    "print(pipe.predict(['coffee']))"
   ]
  },
  {
   "cell_type": "code",
   "execution_count": 213,
   "metadata": {},
   "outputs": [],
   "source": [
    "token = \"1783843952:AAGkKSVzqjo5HlwmDDABI4t3AEcPqw54cRw\""
   ]
  },
  {
   "cell_type": "code",
   "execution_count": null,
   "metadata": {},
   "outputs": [],
   "source": []
  },
  {
   "cell_type": "code",
   "execution_count": null,
   "metadata": {},
   "outputs": [],
   "source": []
  },
  {
   "cell_type": "code",
   "execution_count": null,
   "metadata": {},
   "outputs": [],
   "source": []
  },
  {
   "cell_type": "code",
   "execution_count": null,
   "metadata": {},
   "outputs": [],
   "source": []
  }
 ],
 "metadata": {
  "kernelspec": {
   "display_name": "Python 3",
   "language": "python",
   "name": "python3"
  },
  "language_info": {
   "codemirror_mode": {
    "name": "ipython",
    "version": 3
   },
   "file_extension": ".py",
   "mimetype": "text/x-python",
   "name": "python",
   "nbconvert_exporter": "python",
   "pygments_lexer": "ipython3",
   "version": "3.8.3"
  }
 },
 "nbformat": 4,
 "nbformat_minor": 4
}

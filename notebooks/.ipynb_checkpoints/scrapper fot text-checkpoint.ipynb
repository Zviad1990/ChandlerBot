{
 "cells": [
  {
   "cell_type": "code",
   "execution_count": 1,
   "metadata": {},
   "outputs": [],
   "source": [
    "import json\n",
    "from bs4 import BeautifulSoup as bs\n",
    "import requests\n",
    "from tqdm import tqdm_notebook as tn\n",
    "import pandas as pd"
   ]
  },
  {
   "cell_type": "code",
   "execution_count": 2,
   "metadata": {},
   "outputs": [],
   "source": [
    "url=\"http://www.livesinabox.com/friends/\""
   ]
  },
  {
   "cell_type": "code",
   "execution_count": 3,
   "metadata": {},
   "outputs": [],
   "source": [
    "response = requests.get(url + \"scripts.shtml\")"
   ]
  },
  {
   "cell_type": "code",
   "execution_count": 4,
   "metadata": {
    "scrolled": false
   },
   "outputs": [],
   "source": [
    "soup = bs(response.text, \"lxml\")"
   ]
  },
  {
   "cell_type": "code",
   "execution_count": 6,
   "metadata": {},
   "outputs": [
    {
     "data": {
      "text/plain": [
       "'http://www.livesinabox.com/friends/scripts.shtml'"
      ]
     },
     "execution_count": 6,
     "metadata": {},
     "output_type": "execute_result"
    }
   ],
   "source": [
    "url + \"scripts.shtml\""
   ]
  },
  {
   "cell_type": "markdown",
   "metadata": {},
   "source": [
    "# find episodes for season 1"
   ]
  },
  {
   "cell_type": "code",
   "execution_count": 88,
   "metadata": {
    "scrolled": false
   },
   "outputs": [],
   "source": [
    "for x in soup.find_all(\"a\",{\"href\":\"season10/1002.shtml\"}):\n",
    "    print(x)\n",
    "#     break"
   ]
  },
  {
   "cell_type": "code",
   "execution_count": 92,
   "metadata": {
    "scrolled": false
   },
   "outputs": [],
   "source": [
    "links = pd.DataFrame()\n",
    "for q in x.parent.parent.find_all(\"a\"):\n",
    "    temp = pd.DataFrame({\"season\":[q['href'].split(\"/\")[0]],\n",
    "                         \"episode\":[q['href'].split(\"/\")[1].split(\".\")[0]],\n",
    "                         \"link\":[q['href']]})\n",
    "    links = links.append(temp)\n"
   ]
  },
  {
   "cell_type": "code",
   "execution_count": 93,
   "metadata": {},
   "outputs": [],
   "source": [
    "# links.to_csv(\"../data/links.csv\")"
   ]
  },
  {
   "cell_type": "code",
   "execution_count": 94,
   "metadata": {},
   "outputs": [
    {
     "data": {
      "text/html": [
       "<div>\n",
       "<style scoped>\n",
       "    .dataframe tbody tr th:only-of-type {\n",
       "        vertical-align: middle;\n",
       "    }\n",
       "\n",
       "    .dataframe tbody tr th {\n",
       "        vertical-align: top;\n",
       "    }\n",
       "\n",
       "    .dataframe thead th {\n",
       "        text-align: right;\n",
       "    }\n",
       "</style>\n",
       "<table border=\"1\" class=\"dataframe\">\n",
       "  <thead>\n",
       "    <tr style=\"text-align: right;\">\n",
       "      <th></th>\n",
       "      <th>season</th>\n",
       "      <th>episode</th>\n",
       "      <th>link</th>\n",
       "    </tr>\n",
       "  </thead>\n",
       "  <tbody>\n",
       "    <tr>\n",
       "      <th>0</th>\n",
       "      <td>season9</td>\n",
       "      <td>903ped</td>\n",
       "      <td>season9/903ped.htm</td>\n",
       "    </tr>\n",
       "  </tbody>\n",
       "</table>\n",
       "</div>"
      ],
      "text/plain": [
       "    season episode                link\n",
       "0  season9  903ped  season9/903ped.htm"
      ]
     },
     "execution_count": 94,
     "metadata": {},
     "output_type": "execute_result"
    }
   ],
   "source": [
    "links.head(2)"
   ]
  },
  {
   "cell_type": "code",
   "execution_count": 95,
   "metadata": {},
   "outputs": [
    {
     "data": {
      "text/plain": [
       "array(['903ped'], dtype=object)"
      ]
     },
     "execution_count": 95,
     "metadata": {},
     "output_type": "execute_result"
    }
   ],
   "source": [
    "links.episode.unique()"
   ]
  },
  {
   "cell_type": "markdown",
   "metadata": {},
   "source": [
    "# download all scrpts from seasone 1"
   ]
  },
  {
   "cell_type": "code",
   "execution_count": 58,
   "metadata": {
    "scrolled": false
   },
   "outputs": [
    {
     "name": "stderr",
     "output_type": "stream",
     "text": [
      "<ipython-input-58-675c45985f80>:2: TqdmDeprecationWarning: This function will be removed in tqdm==5.0.0\n",
      "Please use `tqdm.notebook.tqdm` instead of `tqdm.tqdm_notebook`\n",
      "  for _,link in tn(links.iterrows()):\n"
     ]
    },
    {
     "data": {
      "application/vnd.jupyter.widget-view+json": {
       "model_id": "2830207e5d654264a9a43933cacd7cba",
       "version_major": 2,
       "version_minor": 0
      },
      "text/plain": [
       "HBox(children=(FloatProgress(value=1.0, bar_style='info', max=1.0), HTML(value='')))"
      ]
     },
     "metadata": {},
     "output_type": "display_data"
    },
    {
     "name": "stdout",
     "output_type": "stream",
     "text": [
      "\n"
     ]
    },
    {
     "data": {
      "text/html": [
       "<div>\n",
       "<style scoped>\n",
       "    .dataframe tbody tr th:only-of-type {\n",
       "        vertical-align: middle;\n",
       "    }\n",
       "\n",
       "    .dataframe tbody tr th {\n",
       "        vertical-align: top;\n",
       "    }\n",
       "\n",
       "    .dataframe thead th {\n",
       "        text-align: right;\n",
       "    }\n",
       "</style>\n",
       "<table border=\"1\" class=\"dataframe\">\n",
       "  <thead>\n",
       "    <tr style=\"text-align: right;\">\n",
       "      <th></th>\n",
       "      <th>season</th>\n",
       "      <th>episode</th>\n",
       "      <th>friend</th>\n",
       "      <th>script</th>\n",
       "    </tr>\n",
       "  </thead>\n",
       "  <tbody>\n",
       "    <tr>\n",
       "      <th>0</th>\n",
       "      <td>season8</td>\n",
       "      <td>801ido</td>\n",
       "      <td>Photographer</td>\n",
       "      <td>Great. (Takes a picture.) Great! Just give me...</td>\n",
       "    </tr>\n",
       "    <tr>\n",
       "      <th>0</th>\n",
       "      <td>season8</td>\n",
       "      <td>801ido</td>\n",
       "      <td>Monica</td>\n",
       "      <td>Okay.</td>\n",
       "    </tr>\n",
       "    <tr>\n",
       "      <th>0</th>\n",
       "      <td>season8</td>\n",
       "      <td>801ido</td>\n",
       "      <td>Ross</td>\n",
       "      <td>(To Monica) Okay, I know Im not supposed to ...</td>\n",
       "    </tr>\n",
       "    <tr>\n",
       "      <th>0</th>\n",
       "      <td>season8</td>\n",
       "      <td>801ido</td>\n",
       "      <td>Joey</td>\n",
       "      <td>What? Whats going on?</td>\n",
       "    </tr>\n",
       "    <tr>\n",
       "      <th>0</th>\n",
       "      <td>season8</td>\n",
       "      <td>801ido</td>\n",
       "      <td>Ross</td>\n",
       "      <td>Monicas pregnant!</td>\n",
       "    </tr>\n",
       "    <tr>\n",
       "      <th>0</th>\n",
       "      <td>season8</td>\n",
       "      <td>801ido</td>\n",
       "      <td>Joey</td>\n",
       "      <td>Oh my God! Is that why you guys had to get ma...</td>\n",
       "    </tr>\n",
       "    <tr>\n",
       "      <th>0</th>\n",
       "      <td>season8</td>\n",
       "      <td>801ido</td>\n",
       "      <td>Monica</td>\n",
       "      <td>Guys! Im not pregnant.</td>\n",
       "    </tr>\n",
       "    <tr>\n",
       "      <th>0</th>\n",
       "      <td>season8</td>\n",
       "      <td>801ido</td>\n",
       "      <td>Joey</td>\n",
       "      <td>Ah. (To Chandler) Slow swimmers? (Chandler lo...</td>\n",
       "    </tr>\n",
       "    <tr>\n",
       "      <th>0</th>\n",
       "      <td>season8</td>\n",
       "      <td>801ido</td>\n",
       "      <td>Ross</td>\n",
       "      <td>What?! What do you mean? You-you-youre not p...</td>\n",
       "    </tr>\n",
       "    <tr>\n",
       "      <th>0</th>\n",
       "      <td>season8</td>\n",
       "      <td>801ido</td>\n",
       "      <td>Monica</td>\n",
       "      <td>You didnt tell anybody I was did you?!</td>\n",
       "    </tr>\n",
       "  </tbody>\n",
       "</table>\n",
       "</div>"
      ],
      "text/plain": [
       "    season episode        friend  \\\n",
       "0  season8  801ido  Photographer   \n",
       "0  season8  801ido        Monica   \n",
       "0  season8  801ido          Ross   \n",
       "0  season8  801ido          Joey   \n",
       "0  season8  801ido          Ross   \n",
       "0  season8  801ido          Joey   \n",
       "0  season8  801ido        Monica   \n",
       "0  season8  801ido          Joey   \n",
       "0  season8  801ido          Ross   \n",
       "0  season8  801ido        Monica   \n",
       "\n",
       "                                              script  \n",
       "0   Great. (Takes a picture.) Great! Just give me...  \n",
       "0                                              Okay.  \n",
       "0   (To Monica) Okay, I know Im not supposed to ...  \n",
       "0                             What? Whats going on?  \n",
       "0                                 Monicas pregnant!  \n",
       "0   Oh my God! Is that why you guys had to get ma...  \n",
       "0                            Guys! Im not pregnant.  \n",
       "0   Ah. (To Chandler) Slow swimmers? (Chandler lo...  \n",
       "0   What?! What do you mean? You-you-youre not p...  \n",
       "0            You didnt tell anybody I was did you?!  "
      ]
     },
     "execution_count": 58,
     "metadata": {},
     "output_type": "execute_result"
    }
   ],
   "source": [
    "lines = pd.DataFrame()\n",
    "for _,link in tn(links.iterrows()):\n",
    "    resp = requests.get(url+link.link)\n",
    "    soup2 = bs(resp.text, \"lxml\")\n",
    "    for s in soup2.find_all(\"p\"):\n",
    "        try:\n",
    "            if s.decode_contents().startswith(\"<b\"):\n",
    "                line = s.decode_contents().replace(\"<b>\", \"\").replace(\"</b>\", \"\")\n",
    "                temp = pd.DataFrame({\"season\" : [link.season],\n",
    "                                     \"episode\" : [link.episode],\n",
    "                                     \"friend\" : [line.split(\":\")[0]],\n",
    "                                     \"script\" : [line.split(\":\")[1]]\n",
    "\n",
    "                                               })\n",
    "                lines = lines.append(temp)\n",
    "            else:\n",
    "                pass\n",
    "        except:\n",
    "            print(s)\n",
    "\n",
    "lines.head(10)"
   ]
  },
  {
   "cell_type": "code",
   "execution_count": 59,
   "metadata": {},
   "outputs": [
    {
     "data": {
      "text/plain": [
       "array(['801ido', '802towrs', '803towrt', '804towvt', '805towrd',\n",
       "       '806towhp', '807stain', '808strip', '809rumor', '810boots',\n",
       "       '811rbsf', '812jdr', '814towsc', '816jtr', '817towtl', '818toim',\n",
       "       '819towji', '820towbs', '821towcc', '822ril', '823rhab'],\n",
       "      dtype=object)"
      ]
     },
     "execution_count": 59,
     "metadata": {},
     "output_type": "execute_result"
    }
   ],
   "source": [
    "lines.episode.unique()"
   ]
  },
  {
   "cell_type": "code",
   "execution_count": 60,
   "metadata": {},
   "outputs": [],
   "source": [
    "lines.to_csv(\"../data/season8_script.csv\")"
   ]
  },
  {
   "cell_type": "code",
   "execution_count": null,
   "metadata": {},
   "outputs": [],
   "source": []
  }
 ],
 "metadata": {
  "kernelspec": {
   "display_name": "Python 3",
   "language": "python",
   "name": "python3"
  },
  "language_info": {
   "codemirror_mode": {
    "name": "ipython",
    "version": 3
   },
   "file_extension": ".py",
   "mimetype": "text/x-python",
   "name": "python",
   "nbconvert_exporter": "python",
   "pygments_lexer": "ipython3",
   "version": "3.8.3"
  }
 },
 "nbformat": 4,
 "nbformat_minor": 4
}

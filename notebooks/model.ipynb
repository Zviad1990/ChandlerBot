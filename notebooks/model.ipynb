{
 "cells": [
  {
   "cell_type": "code",
   "execution_count": 2,
   "metadata": {},
   "outputs": [],
   "source": [
    "import pandas as pd\n",
    "import numpy as np\n",
    "import os\n",
    "from sklearn.feature_extraction.text import TfidfVectorizer\n",
    "from sklearn.decomposition import TruncatedSVD\n",
    "from sklearn.neighbors import BallTree\n",
    "from sklearn.base import BaseEstimator\n",
    "from sklearn.pipeline import make_pipeline"
   ]
  },
  {
   "cell_type": "code",
   "execution_count": 8,
   "metadata": {},
   "outputs": [
    {
     "data": {
      "text/plain": [
       "'../src/dataseason4_script.csv'"
      ]
     },
     "execution_count": 8,
     "metadata": {},
     "output_type": "execute_result"
    }
   ],
   "source": [
    "\"../src/data/\"+data"
   ]
  },
  {
   "cell_type": "code",
   "execution_count": 10,
   "metadata": {},
   "outputs": [
    {
     "name": "stdout",
     "output_type": "stream",
     "text": [
      "(5223, 4)\n",
      "(10310, 4)\n",
      "(16433, 4)\n",
      "(22629, 4)\n",
      "(28298, 4)\n",
      "(34440, 4)\n",
      "(35739, 4)\n",
      "(42154, 4)\n"
     ]
    }
   ],
   "source": [
    "lines = pd.DataFrame()\n",
    "for data in os.listdir(\"../src/data\"):\n",
    "    if data !='links.csv':\n",
    "        temp = pd.read_csv(\"../src/data/\"+data)\n",
    "        temp.drop(\"Unnamed: 0\", axis=1, inplace=True)\n",
    "        lines = lines.append(temp)\n",
    "        print(lines.shape)\n",
    "    else:\n",
    "        pass\n",
    "        "
   ]
  },
  {
   "cell_type": "code",
   "execution_count": 11,
   "metadata": {},
   "outputs": [],
   "source": [
    "# lines = pd.read_csv(\"../data/season1_script.csv\")\n",
    "# lines.drop(\"Unnamed: 0\", axis=1, inplace=True)"
   ]
  },
  {
   "cell_type": "code",
   "execution_count": 12,
   "metadata": {},
   "outputs": [],
   "source": [
    "lines['context'] = lines['script'].shift(1)\n"
   ]
  },
  {
   "cell_type": "code",
   "execution_count": 20,
   "metadata": {},
   "outputs": [
    {
     "data": {
      "text/html": [
       "<div>\n",
       "<style scoped>\n",
       "    .dataframe tbody tr th:only-of-type {\n",
       "        vertical-align: middle;\n",
       "    }\n",
       "\n",
       "    .dataframe tbody tr th {\n",
       "        vertical-align: top;\n",
       "    }\n",
       "\n",
       "    .dataframe thead th {\n",
       "        text-align: right;\n",
       "    }\n",
       "</style>\n",
       "<table border=\"1\" class=\"dataframe\">\n",
       "  <thead>\n",
       "    <tr style=\"text-align: right;\">\n",
       "      <th></th>\n",
       "      <th>season</th>\n",
       "      <th>episode</th>\n",
       "      <th>friend</th>\n",
       "      <th>script</th>\n",
       "      <th>context</th>\n",
       "    </tr>\n",
       "  </thead>\n",
       "  <tbody>\n",
       "    <tr>\n",
       "      <th>0</th>\n",
       "      <td>season4</td>\n",
       "      <td>401jelly</td>\n",
       "      <td>Joey</td>\n",
       "      <td>(lying on a beach towel, recapping what happe...</td>\n",
       "      <td>NaN</td>\n",
       "    </tr>\n",
       "    <tr>\n",
       "      <th>1</th>\n",
       "      <td>season4</td>\n",
       "      <td>401jelly</td>\n",
       "      <td>Phoebe Sr.</td>\n",
       "      <td>(to Phoebe) Im your mother.</td>\n",
       "      <td>(lying on a beach towel, recapping what happe...</td>\n",
       "    </tr>\n",
       "    <tr>\n",
       "      <th>2</th>\n",
       "      <td>season4</td>\n",
       "      <td>401jelly</td>\n",
       "      <td>Phoebe</td>\n",
       "      <td>Ehh?</td>\n",
       "      <td>(to Phoebe) Im your mother.</td>\n",
       "    </tr>\n",
       "    <tr>\n",
       "      <th>3</th>\n",
       "      <td>season4</td>\n",
       "      <td>401jelly</td>\n",
       "      <td>Joey</td>\n",
       "      <td>(voice-over) Oh, and then Monica joked that s...</td>\n",
       "      <td>Ehh?</td>\n",
       "    </tr>\n",
       "    <tr>\n",
       "      <th>4</th>\n",
       "      <td>season4</td>\n",
       "      <td>401jelly</td>\n",
       "      <td>Chandler</td>\n",
       "      <td>(to Monica) (in a funny voice) Hi there. (Mon...</td>\n",
       "      <td>(voice-over) Oh, and then Monica joked that s...</td>\n",
       "    </tr>\n",
       "  </tbody>\n",
       "</table>\n",
       "</div>"
      ],
      "text/plain": [
       "    season   episode      friend  \\\n",
       "0  season4  401jelly        Joey   \n",
       "1  season4  401jelly  Phoebe Sr.   \n",
       "2  season4  401jelly      Phoebe   \n",
       "3  season4  401jelly        Joey   \n",
       "4  season4  401jelly    Chandler   \n",
       "\n",
       "                                              script  \\\n",
       "0   (lying on a beach towel, recapping what happe...   \n",
       "1                       (to Phoebe) Im your mother.   \n",
       "2                                               Ehh?   \n",
       "3   (voice-over) Oh, and then Monica joked that s...   \n",
       "4   (to Monica) (in a funny voice) Hi there. (Mon...   \n",
       "\n",
       "                                             context  \n",
       "0                                                NaN  \n",
       "1   (lying on a beach towel, recapping what happe...  \n",
       "2                       (to Phoebe) Im your mother.  \n",
       "3                                               Ehh?  \n",
       "4   (voice-over) Oh, and then Monica joked that s...  "
      ]
     },
     "execution_count": 20,
     "metadata": {},
     "output_type": "execute_result"
    }
   ],
   "source": [
    "lines.head()"
   ]
  },
  {
   "cell_type": "code",
   "execution_count": 21,
   "metadata": {},
   "outputs": [
    {
     "data": {
      "text/html": [
       "<div>\n",
       "<style scoped>\n",
       "    .dataframe tbody tr th:only-of-type {\n",
       "        vertical-align: middle;\n",
       "    }\n",
       "\n",
       "    .dataframe tbody tr th {\n",
       "        vertical-align: top;\n",
       "    }\n",
       "\n",
       "    .dataframe thead th {\n",
       "        text-align: right;\n",
       "    }\n",
       "</style>\n",
       "<table border=\"1\" class=\"dataframe\">\n",
       "  <thead>\n",
       "    <tr style=\"text-align: right;\">\n",
       "      <th></th>\n",
       "      <th>season</th>\n",
       "      <th>episode</th>\n",
       "      <th>friend</th>\n",
       "      <th>script</th>\n",
       "      <th>context</th>\n",
       "    </tr>\n",
       "  </thead>\n",
       "  <tbody>\n",
       "    <tr>\n",
       "      <th>4</th>\n",
       "      <td>season4</td>\n",
       "      <td>401jelly</td>\n",
       "      <td>Chandler</td>\n",
       "      <td>(to Monica) (in a funny voice) Hi there. (Mon...</td>\n",
       "      <td>(voice-over) Oh, and then Monica joked that s...</td>\n",
       "    </tr>\n",
       "    <tr>\n",
       "      <th>47</th>\n",
       "      <td>season4</td>\n",
       "      <td>401jelly</td>\n",
       "      <td>Chandler</td>\n",
       "      <td>(jumping up) Oh, Ill go out and get you some.</td>\n",
       "      <td>(closing the fridge in disgust) Shoot! Were ...</td>\n",
       "    </tr>\n",
       "    <tr>\n",
       "      <th>49</th>\n",
       "      <td>season4</td>\n",
       "      <td>401jelly</td>\n",
       "      <td>Chandler</td>\n",
       "      <td>Nope! Because Im not your boyfriend. (to Pho...</td>\n",
       "      <td>Really?!</td>\n",
       "    </tr>\n",
       "    <tr>\n",
       "      <th>51</th>\n",
       "      <td>season4</td>\n",
       "      <td>401jelly</td>\n",
       "      <td>Chandler</td>\n",
       "      <td>I found a dried up seashores.</td>\n",
       "      <td>Well, umm, my Moms friend, Phoebe, is actual...</td>\n",
       "    </tr>\n",
       "  </tbody>\n",
       "</table>\n",
       "</div>"
      ],
      "text/plain": [
       "     season   episode    friend  \\\n",
       "4   season4  401jelly  Chandler   \n",
       "47  season4  401jelly  Chandler   \n",
       "49  season4  401jelly  Chandler   \n",
       "51  season4  401jelly  Chandler   \n",
       "\n",
       "                                               script  \\\n",
       "4    (to Monica) (in a funny voice) Hi there. (Mon...   \n",
       "47     (jumping up) Oh, Ill go out and get you some.   \n",
       "49   Nope! Because Im not your boyfriend. (to Pho...   \n",
       "51                      I found a dried up seashores.   \n",
       "\n",
       "                                              context  \n",
       "4    (voice-over) Oh, and then Monica joked that s...  \n",
       "47   (closing the fridge in disgust) Shoot! Were ...  \n",
       "49                                           Really?!  \n",
       "51   Well, umm, my Moms friend, Phoebe, is actual...  "
      ]
     },
     "execution_count": 21,
     "metadata": {},
     "output_type": "execute_result"
    }
   ],
   "source": [
    "chandler = lines[lines['friend']=='Chandler']\n",
    "chandler = chandler[~chandler['context'].isnull()]\n",
    "\n",
    "\n",
    "chandler.head(4)"
   ]
  },
  {
   "cell_type": "code",
   "execution_count": 22,
   "metadata": {},
   "outputs": [
    {
     "name": "stdout",
     "output_type": "stream",
     "text": [
      "<class 'pandas.core.frame.DataFrame'>\n",
      "Int64Index: 5848 entries, 4 to 6397\n",
      "Data columns (total 5 columns):\n",
      " #   Column   Non-Null Count  Dtype \n",
      "---  ------   --------------  ----- \n",
      " 0   season   5848 non-null   object\n",
      " 1   episode  5848 non-null   object\n",
      " 2   friend   5848 non-null   object\n",
      " 3   script   5848 non-null   object\n",
      " 4   context  5848 non-null   object\n",
      "dtypes: object(5)\n",
      "memory usage: 274.1+ KB\n"
     ]
    }
   ],
   "source": [
    "chandler.info()"
   ]
  },
  {
   "cell_type": "code",
   "execution_count": 23,
   "metadata": {},
   "outputs": [
    {
     "name": "stdout",
     "output_type": "stream",
     "text": [
      "(5848, 5069)\n"
     ]
    }
   ],
   "source": [
    "vector = TfidfVectorizer()\n",
    "matrix = vector.fit_transform(chandler.context)\n",
    "print(matrix.shape)"
   ]
  },
  {
   "cell_type": "code",
   "execution_count": 26,
   "metadata": {},
   "outputs": [
    {
     "name": "stdout",
     "output_type": "stream",
     "text": [
      "(5848, 2000)\n",
      "0.9555890481816578\n"
     ]
    }
   ],
   "source": [
    "svd = TruncatedSVD(n_components=2000)\n",
    "smal_matr = svd.fit_transform(matrix)\n",
    "print(smal_matr.shape)\n",
    "print(svd.explained_variance_ratio_.sum())"
   ]
  },
  {
   "cell_type": "code",
   "execution_count": 27,
   "metadata": {},
   "outputs": [],
   "source": [
    "def softmax(x):\n",
    "    proba = np.exp(-x)\n",
    "    return proba/sum(proba)\n",
    "\n",
    "\n",
    "class NeighbourCample(BaseEstimator):\n",
    "    \n",
    "    def __init__(self, k=5, temperature=1.0):\n",
    "        self.k = k\n",
    "        self.temperature = temperature\n",
    "        \n",
    "    def fit(self, X, y):\n",
    "        self.tree_ = BallTree(X)\n",
    "        self.y_ = np.array(y)\n",
    "        \n",
    "    def predict(self, X, random_state=None):\n",
    "        distances, indices = self.tree_.query(X, return_distance=True, k=self.k)\n",
    "        result = []\n",
    "        for distance, index in zip(distances, indices):\n",
    "            result.append(np.random.choice(index, p = softmax(distance * self.temperature)))\n",
    "        return self.y_[result]        "
   ]
  },
  {
   "cell_type": "code",
   "execution_count": 28,
   "metadata": {},
   "outputs": [],
   "source": [
    "ns = NeighbourCample()\n",
    "ns.fit(smal_matr, chandler.script)\n",
    "pipe = make_pipeline(vector, svd, ns)"
   ]
  },
  {
   "cell_type": "code",
   "execution_count": 37,
   "metadata": {},
   "outputs": [
    {
     "name": "stdout",
     "output_type": "stream",
     "text": [
      "[' Well, I am drinking lots of cups of coffee because I\\x92m exhausted!\\nBecause Joey started snoring!']\n"
     ]
    }
   ],
   "source": [
    "print(pipe.predict(['coffee']))"
   ]
  },
  {
   "cell_type": "code",
   "execution_count": 213,
   "metadata": {},
   "outputs": [],
   "source": [
    "token = \"1783843952:AAGkKSVzqjo5HlwmDDABI4t3AEcPqw54cRw\""
   ]
  },
  {
   "cell_type": "code",
   "execution_count": null,
   "metadata": {},
   "outputs": [],
   "source": []
  },
  {
   "cell_type": "code",
   "execution_count": null,
   "metadata": {},
   "outputs": [],
   "source": []
  },
  {
   "cell_type": "code",
   "execution_count": null,
   "metadata": {},
   "outputs": [],
   "source": []
  },
  {
   "cell_type": "code",
   "execution_count": null,
   "metadata": {},
   "outputs": [],
   "source": []
  }
 ],
 "metadata": {
  "kernelspec": {
   "display_name": "Python 3",
   "language": "python",
   "name": "python3"
  },
  "language_info": {
   "codemirror_mode": {
    "name": "ipython",
    "version": 3
   },
   "file_extension": ".py",
   "mimetype": "text/x-python",
   "name": "python",
   "nbconvert_exporter": "python",
   "pygments_lexer": "ipython3",
   "version": "3.8.3"
  }
 },
 "nbformat": 4,
 "nbformat_minor": 4
}
